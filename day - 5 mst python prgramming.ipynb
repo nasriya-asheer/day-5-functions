{
 "cells": [
  {
   "cell_type": "code",
   "execution_count": 7,
   "id": "38b9d443",
   "metadata": {},
   "outputs": [
    {
     "name": "stdout",
     "output_type": "stream",
     "text": [
      "Enter first number: 4\n",
      "Enter second number: 3\n",
      "Enter third number: 6\n",
      "The middle number is : 4\n"
     ]
    }
   ],
   "source": [
    "#Qs_no 1\n",
    "no1=int(input(\"Enter first number: \"))\n",
    "no2=int(input(\"Enter second number: \"))\n",
    "no3=int(input(\"Enter third number: \"))\n",
    "def middle(no1,no2,no3):\n",
    "    numbers= [no1,no2,no3]\n",
    "    sorted_numbers=sorted(numbers)\n",
    "    print(f\"The middle number is : {sorted_numbers[1]}\")\n",
    "middle(no1,no2,no3)"
   ]
  },
  {
   "cell_type": "code",
   "execution_count": 11,
   "id": "8d80d2cd",
   "metadata": {},
   "outputs": [
    {
     "name": "stdout",
     "output_type": "stream",
     "text": [
      "Enter first number: 7\n",
      "Enter second number: 7\n",
      "Enter operation(+,-,*,/): /\n",
      "The division of 7.0 / 7.0 is : 1.0\n"
     ]
    }
   ],
   "source": [
    "#Qs_no 2\n",
    "def add(x,y):\n",
    "    print(f\"The sum of {x} + {y} is :\" , x+y)\n",
    "def sub(x,y):\n",
    "     print(f\"The difference of {x} - {y} is :\" , x-y)\n",
    "def mul(x,y):\n",
    "    print(f\"The multiplication of {x} * {y} is :\" , x*y)\n",
    "def div(x,y):\n",
    "    print(f\"The division of {x} / {y} is :\" , x/y)\n",
    "num1=float(input(\"Enter first number: \"))\n",
    "num2=float(input(\"Enter second number: \"))\n",
    "op=input(\"Enter operation(+,-,*,/): \")\n",
    "if op=='+':\n",
    "    add(num1,num2)\n",
    "if op=='-':\n",
    "    sub(num1,num2)\n",
    "if op=='*':\n",
    "    mul(num1,num2)\n",
    "if op=='/':\n",
    "    div(num1,num2)\n",
    "    "
   ]
  },
  {
   "cell_type": "code",
   "execution_count": 15,
   "id": "8dc877b1",
   "metadata": {},
   "outputs": [
    {
     "name": "stdout",
     "output_type": "stream",
     "text": [
      "Enter first side: 3\n",
      "Enter second side: 4\n",
      "hypotenuse:  5.0\n"
     ]
    }
   ],
   "source": [
    "#Qs no 3\n",
    "import math\n",
    "a=int(input(\"Enter first side: \"))\n",
    "b=int(input(\"Enter second side: \"))\n",
    "def hyp(a,b):\n",
    "    c=math.sqrt(a*a+b*b)\n",
    "    print(\"hypotenuse: \",c)\n",
    "hyp(a,b)"
   ]
  },
  {
   "cell_type": "code",
   "execution_count": 16,
   "id": "5a8889ed",
   "metadata": {},
   "outputs": [
    {
     "name": "stdout",
     "output_type": "stream",
     "text": [
      "Enter length : 5\n",
      "Enter breadth : 6\n",
      "length :  5\n",
      "breadth:  6\n",
      "Area :  30\n",
      "perimeter :  22\n"
     ]
    }
   ],
   "source": [
    "#QS NO 4\n",
    "length=int(input(\"Enter length : \"))\n",
    "breadth=int(input(\"Enter breadth : \"))\n",
    "class rectangle:\n",
    "    def __init__(self,length,breadth):\n",
    "        self.length=length\n",
    "        self.breadth=breadth\n",
    "    def perimeter(self):\n",
    "        return 2*(self.length+self.breadth)\n",
    "    def area(self):\n",
    "        return self.length*self.breadth\n",
    "    def display(self):\n",
    "        print(\"length : \",self.length)\n",
    "        print(\"breadth: \",self.breadth)\n",
    "        print(\"Area : \",self.area())\n",
    "        print(\"perimeter : \",self.perimeter())\n",
    "        \n",
    "my_rectangle=rectangle(length,breadth) \n",
    "my_rectangle.display()\n",
    "        "
   ]
  },
  {
   "cell_type": "code",
   "execution_count": 27,
   "id": "f7b8823f",
   "metadata": {},
   "outputs": [
    {
     "name": "stdout",
     "output_type": "stream",
     "text": [
      "Account Number: 3146707\n",
      "Account Holder: NASRIYA\n",
      "Current Balance: $10000\n",
      "deposit:  5000\n",
      "new_balace : 15000\n",
      "withdraw:  1000\n",
      "new_balace : 14000\n",
      "updated balance:  13300.0\n",
      "Account Number: 3146707\n",
      "Account Holder: NASRIYA\n",
      "Current Balance: $13300.0\n"
     ]
    }
   ],
   "source": [
    "#Qs no 5\n",
    "\n",
    "class BankAccount:\n",
    "    def __init__ (self,accountNumber,name,balance=0.0):\n",
    "        self.accountNumber=accountNumber\n",
    "        self.name=name\n",
    "        self.balance=balance\n",
    "    def deposit(self,amount):\n",
    "        if amount>0:\n",
    "            self.balance+=amount\n",
    "            print('deposit: ',amount)\n",
    "            print('new_balace :',self.balance)\n",
    "        else:\n",
    "            print(\"invalid entry\")\n",
    "    def withdraw(self,amount):\n",
    "        if amount>0 and amount<=self.balance:\n",
    "            self.balance-=amount\n",
    "            print('withdraw: ',amount)\n",
    "            print('new_balace :',self.balance)\n",
    "        else:\n",
    "            print(\"invalid withdraw amount\")\n",
    "            \n",
    "    def bankFee(self,fee):\n",
    "        if fee>=0:\n",
    "            fee_amt=(fee/100)*self.balance\n",
    "            self.balance-=fee_amt\n",
    "            print(\"updated balance: \",self.balance)\n",
    "      \n",
    "    def display(self):\n",
    "        print(f\"Account Number: {self.accountNumber}\")\n",
    "        print(f\"Account Holder: {self.name}\")\n",
    "        print(f\"Current Balance: ${self.balance}\")\n",
    "my_bank=BankAccount(3146707,'NASRIYA',10000)\n",
    "my_bank.display()\n",
    "my_bank.deposit(5000)\n",
    "my_bank.withdraw(1000)\n",
    "my_bank.bankFee(5.0)\n",
    "my_bank.display()\n",
    "    \n",
    "    \n",
    "    \n",
    "    "
   ]
  },
  {
   "cell_type": "code",
   "execution_count": null,
   "id": "d7f4d6f6",
   "metadata": {},
   "outputs": [],
   "source": []
  }
 ],
 "metadata": {
  "kernelspec": {
   "display_name": "Python 3 (ipykernel)",
   "language": "python",
   "name": "python3"
  },
  "language_info": {
   "codemirror_mode": {
    "name": "ipython",
    "version": 3
   },
   "file_extension": ".py",
   "mimetype": "text/x-python",
   "name": "python",
   "nbconvert_exporter": "python",
   "pygments_lexer": "ipython3",
   "version": "3.11.5"
  }
 },
 "nbformat": 4,
 "nbformat_minor": 5
}
